{
 "cells": [
  {
   "cell_type": "code",
   "execution_count": 1,
   "metadata": {},
   "outputs": [],
   "source": [
    "import numpy as np\n",
    "import pandas as pd\n",
    "import scipy.stats as stats\n",
    "import matplotlib.pyplot as plt\n",
    "plt.style.use('ggplot')"
   ]
  },
  {
   "cell_type": "code",
   "execution_count": 2,
   "metadata": {},
   "outputs": [],
   "source": [
    "def bootstrap(x, resamples=1000):\n",
    "    \"\"\"Draw bootstrap resamples from the array x.\n",
    "\n",
    "       Parameters\n",
    "       ----------\n",
    "       x: np.array, shape (n, )\n",
    "         The data to draw the bootstrap samples from.\n",
    "       \n",
    "       resamples: int\n",
    "         The number of bootstrap samples to draw from x.\n",
    "       \n",
    "       Returns\n",
    "       -------\n",
    "       bootstrap_samples: np.array, shape (resamples, n)\n",
    "         The bootsrap resamples from x.\n",
    "    \"\"\"\n",
    "    obj = x.shape[0] # should = 5\n",
    "    samples = []\n",
    "    for k in range(resamples):\n",
    "        idx = np.random.randint(obj, size=obj)\n",
    "        boot_samp = x[idx]\n",
    "        samples.append(boot_samp)\n",
    "    return np.array(samples)"
   ]
  },
  {
   "cell_type": "code",
   "execution_count": 3,
   "metadata": {},
   "outputs": [
    {
     "name": "stdout",
     "output_type": "stream",
     "text": [
      "[[ 0.97043958  0.08116311  0.08116311  0.97043958  0.97043958]\n",
      " [ 0.97043958  1.53426565  0.08116311 -1.52996123 -1.52996123]\n",
      " [ 0.27982927  1.53426565  0.08116311 -1.52996123  1.53426565]\n",
      " ...\n",
      " [ 0.97043958  0.08116311 -1.52996123 -1.52996123  0.08116311]\n",
      " [ 0.97043958  0.27982927 -1.52996123  0.08116311  0.08116311]\n",
      " [ 0.08116311 -1.52996123  0.08116311  0.27982927  0.97043958]]\n",
      "\n",
      "1,000 arrays of 5 bootstrap samples (arrays): (1000, 5)\n"
     ]
    }
   ],
   "source": [
    "# Generate population sample\n",
    "data = np.random.randn(5) \n",
    "\n",
    "# https://numpy.org/doc/stable/reference/random/generated/numpy.random.randn.html\n",
    "\n",
    "# Boostrap from samples\n",
    "samples = bootstrap(data)\n",
    "\n",
    "print(samples)\n",
    "print(f'\\n1,000 arrays of 5 bootstrap samples (arrays): {samples.shape}')"
   ]
  },
  {
   "cell_type": "code",
   "execution_count": 5,
   "metadata": {},
   "outputs": [
    {
     "data": {
      "text/plain": [
       "5"
      ]
     },
     "execution_count": 5,
     "metadata": {},
     "output_type": "execute_result"
    }
   ],
   "source": [
    "data.shape[0]"
   ]
  },
  {
   "cell_type": "code",
   "execution_count": 6,
   "metadata": {},
   "outputs": [],
   "source": [
    "productivity_path = 'data/productivity.txt'\n",
    "data = np.loadtxt(productivity_path)"
   ]
  },
  {
   "cell_type": "code",
   "execution_count": 7,
   "metadata": {},
   "outputs": [
    {
     "name": "stdout",
     "output_type": "stream",
     "text": [
      "[-19.1 -15.2 -12.4 -15.4  -8.7  -6.7  -5.9  -3.5  -3.1  -2.1   4.2   6.1\n",
      "   7.    9.1  10.   10.3  13.2  10.1  14.1  14.4  20.1  26.3  27.7  22.2\n",
      "  23.4]\n"
     ]
    }
   ],
   "source": [
    "print(data)"
   ]
  },
  {
   "cell_type": "code",
   "execution_count": 8,
   "metadata": {},
   "outputs": [],
   "source": [
    "def bootstrap_ci(sample, stat_function=np.mean, resamples=1000, ci=95):\n",
    "    \"\"\"Calculate the CI of chosen sample statistic using bootstrap sampling.\n",
    "\n",
    "    CI = confidence interval\n",
    "\n",
    "    Parameters\n",
    "    ----------\n",
    "    sample: Numpy array\n",
    "        1-d numeric data\n",
    "\n",
    "    stat_function: function, optional (default=np.mean)\n",
    "        Function for calculating as sample statistic on data\n",
    "\n",
    "    iterations: int, optional (default=1000)\n",
    "        Number of bootstrap samples to create\n",
    "\n",
    "    ci: int, optional (default=95)\n",
    "        Percent of distribution encompassed by CI, 0<ci<100\n",
    "\n",
    "    Returns\n",
    "    -------\n",
    "    tuple: lower_ci(float), upper_ci(float), bootstrap_samples_statistic(array)\n",
    "        Lower and upper bounds of CI, sample stat from each bootstrap sample\n",
    "    \"\"\"\n",
    "    # Generate bootstrapped samples\n",
    "    samps = bootstrap(sample, resamples=resamples)\n",
    "    \n",
    "    # Calculate sample statistics on bootstrapped samples\n",
    "    samp_stat = list(map(stat_function, samps))\n",
    "    # https://docs.python.org/3/library/functions.html#map\n",
    "    \n",
    "    # Return the sample statistics, two percentile bounds\n",
    "    return samp_stat, np.percentile(samp_stat, (100-ci)/2), np.percentile(samp_stat, 100 - (100-ci)/2)"
   ]
  },
  {
   "cell_type": "code",
   "execution_count": 10,
   "metadata": {},
   "outputs": [
    {
     "name": "stdout",
     "output_type": "stream",
     "text": [
      "\n",
      "95% bootstrapped CI of the mean: (-0.25309999999999944, 10.0732)\n"
     ]
    }
   ],
   "source": [
    "bootstrap_means, lower_ci, upper_ci = bootstrap_ci(data)\n",
    "\n",
    "print(f'\\n95% bootstrapped CI of the mean: ({lower_ci}, {upper_ci})')"
   ]
  },
  {
   "cell_type": "code",
   "execution_count": 11,
   "metadata": {},
   "outputs": [
    {
     "data": {
      "image/png": "[encoded data removed]",
      "text/plain": [
       "<Figure size 720x288 with 1 Axes>"
      ]
     },
     "metadata": {},
     "output_type": "display_data"
    }
   ],
   "source": [
    "fig, ax = plt.subplots(figsize=(10,4))\n",
    "ax.hist(bootstrap_means, bins=20)\n",
    "ax.set_xlabel('Mean Change in Productivity')\n",
    "ax.set_ylabel('Frequency')\n",
    "ax.set_title('Mean Difference in Productivity')\n",
    "ax.axvline(lower_ci, linestyle='--', c='b')\n",
    "ax.axvline(upper_ci, linestyle='--', c='b')\n",
    "plt.show()"
   ]
  },
  {
   "cell_type": "code",
   "execution_count": 12,
   "metadata": {},
   "outputs": [
    {
     "name": "stdout",
     "output_type": "stream",
     "text": [
      "\n",
      "90% bootstrapped CI of the mean: (0.9262000000000002, 9.464999999999998)\n"
     ]
    }
   ],
   "source": [
    "boostrap_means2, lower_ci2, upper_ci2 = bootstrap_ci(data, ci=90)\n",
    "print(f'\\n90% bootstrapped CI of the mean: ({lower_ci2}, {upper_ci2})')"
   ]
  },
  {
   "cell_type": "code",
   "execution_count": 13,
   "metadata": {},
   "outputs": [
    {
     "data": {
      "image/png": "[encoded data removed]",
      "text/plain": [
       "<Figure size 720x288 with 1 Axes>"
      ]
     },
     "metadata": {},
     "output_type": "display_data"
    }
   ],
   "source": [
    "fig, ax = plt.subplots(figsize=(10,4))\n",
    "ax.hist(bootstrap_means, bins=20)\n",
    "ax.set_xlabel('Mean Change in Productivity')\n",
    "ax.set_ylabel('Frequency')\n",
    "ax.set_title('Mean Difference in Productivity')\n",
    "ax.axvline(lower_ci, linestyle='--', c='b', label='95% CI')\n",
    "ax.axvline(lower_ci2, linestyle='--', c='black', label='90% CI')\n",
    "ax.axvline(upper_ci, linestyle='--', c='b')\n",
    "ax.axvline(upper_ci2, linestyle='--', c='black')\n",
    "ax.legend()\n",
    "plt.show()"
   ]
  },
  {
   "cell_type": "markdown",
   "metadata": {},
   "source": [
    "Suppose there are 100 programmers in the company. The cost of changing a monitor is 500 and the increase of one unit of productivity is worth 2,000, would you recommend switching the monitors? State the assumptions you are making and show your work.\n",
    "\n",
    "Based off our 95% CI, there is statistical evidence for a decrease in productivity so no, we would not recommend switching the monitors.\n",
    "\n",
    "Based off our 90% CI, the minimum expecteded average improvement is the lower bound of our CI: ~0.6\n",
    "\n",
    "Therefore we have an average improvement of 0.6 per person\"\n",
    "\n",
    "0.6 units/person * 100 people = 60 units productivity\n",
    "\n",
    "Cost of new monitors: 100 * 500 = 50,000\n",
    "\n",
    "Increase in productivity worth: 2,000 * 60 = 120,000\n",
    "\n",
    "Profit: 120,000 - 50,000 = 70,000"
   ]
  },
  {
   "cell_type": "markdown",
   "metadata": {},
   "source": [
    "# Advanced Section of Assignment"
   ]
  },
  {
   "cell_type": "code",
   "execution_count": 14,
   "metadata": {},
   "outputs": [
    {
     "name": "stdout",
     "output_type": "stream",
     "text": [
      "15 Schools, 2 columns for mean LSAT and mean GPA: (15, 2)\n"
     ]
    }
   ],
   "source": [
    "law_path = 'data/law_sample.txt'\n",
    "data2 = np.loadtxt(law_path)\n",
    "print(f'15 Schools, 2 columns for mean LSAT and mean GPA: {data2.shape}')"
   ]
  },
  {
   "cell_type": "code",
   "execution_count": 15,
   "metadata": {},
   "outputs": [
    {
     "name": "stdout",
     "output_type": "stream",
     "text": [
      "Pearson's Correlation: 0.776374491289407 \n",
      "P-value: 0.0006651020111028156\n"
     ]
    }
   ],
   "source": [
    "corr, p_value = stats.pearsonr(data2[:,0], data2[:,1])\n",
    "print(f\"Pearson's Correlation: {corr} \\nP-value: {p_value}\")"
   ]
  },
  {
   "cell_type": "code",
   "execution_count": 16,
   "metadata": {},
   "outputs": [
    {
     "name": "stdout",
     "output_type": "stream",
     "text": [
      "\n",
      "95% bootstrapped CI of the mean: (0.46582530544748196, 0.9595544087271863)\n"
     ]
    }
   ],
   "source": [
    "bootstrap_means3, lower_ci3, upper_ci3 = bootstrap_ci(data2, \n",
    "    stat_function=(lambda x: stats.pearsonr(x[:,0], x[:,1])[0]),\n",
    "    resamples=1000, ci=95)\n",
    "print(f'\\n95% bootstrapped CI of the mean: ({lower_ci3}, {upper_ci3})')"
   ]
  },
  {
   "cell_type": "code",
   "execution_count": 17,
   "metadata": {},
   "outputs": [
    {
     "data": {
      "image/png": "[encoded data removed]",
      "text/plain": [
       "<Figure size 720x288 with 1 Axes>"
      ]
     },
     "metadata": {},
     "output_type": "display_data"
    }
   ],
   "source": [
    "fig, ax = plt.subplots(figsize=(10,4))\n",
    "ax.hist(bootstrap_means3, bins=20)\n",
    "ax.set_xlabel('Correlation Coefficient')\n",
    "ax.set_ylabel('Frequency')\n",
    "ax.set_title('Mean Difference of Correlation of Mean LSAT scores and Mean GPA')\n",
    "ax.axvline(lower_ci3, linestyle='--', c='b')\n",
    "ax.axvline(upper_ci3, linestyle='--', c='b')\n",
    "plt.show()"
   ]
  },
  {
   "cell_type": "code",
   "execution_count": 18,
   "metadata": {},
   "outputs": [
    {
     "name": "stdout",
     "output_type": "stream",
     "text": [
      "82 Schools, 2 columns for mean LSAT and mean GPA: (82, 2)\n"
     ]
    }
   ],
   "source": [
    "law_path2 = 'data/law_all.txt'\n",
    "data3 = np.loadtxt(law_path2)\n",
    "print(f'82 Schools, 2 columns for mean LSAT and mean GPA: {data3.shape}')"
   ]
  },
  {
   "cell_type": "code",
   "execution_count": 19,
   "metadata": {},
   "outputs": [
    {
     "name": "stdout",
     "output_type": "stream",
     "text": [
      "Pearson's Correlation: 0.7599978555038982 \n",
      "P-value: 1.240290331011239e-16\n"
     ]
    }
   ],
   "source": [
    "corr2, p_value2 = stats.pearsonr(data3[:,0], data3[:,1])\n",
    "print(f\"Pearson's Correlation: {corr2} \\nP-value: {p_value2}\")"
   ]
  },
  {
   "cell_type": "code",
   "execution_count": null,
   "metadata": {},
   "outputs": [],
   "source": []
  }
 ],
 "metadata": {
  "kernelspec": {
   "display_name": "Python 3",
   "language": "python",
   "name": "python3"
  },
  "language_info": {
   "codemirror_mode": {
    "name": "ipython",
    "version": 3
   },
   "file_extension": ".py",
   "mimetype": "text/x-python",
   "name": "python",
   "nbconvert_exporter": "python",
   "pygments_lexer": "ipython3",
   "version": "3.7.7"
  }
 },
 "nbformat": 4,
 "nbformat_minor": 4
}
